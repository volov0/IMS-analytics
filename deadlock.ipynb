{
 "cells": [
  {
   "cell_type": "markdown",
   "metadata": {},
   "source": [
    "#### Log type 67 - Deadlock analysis\n",
    "##### Related job outputs to logs_212_219.h5 log data (two BMPs and IMSX control region) are in deadlock outputs/ directory"
   ]
  },
  {
   "cell_type": "code",
   "execution_count": 11,
   "metadata": {},
   "outputs": [],
   "source": [
    "# Copyright (c) 2018 CA.  All rights reserved.\n",
    "import pandas as pd\n",
    "import logspecs      \n",
    "\n",
    "# load data from filesystem into dataframe\n",
    "hdf = pd.HDFStore('hdf5/logs_212_219.h5')  # What is stored here is a product of preprocessing phase.\n",
    "df = hdf['df']                             # df is raw dataframe with fields which are common to all log record types\n",
    "df"
   ]
  },
  {
   "cell_type": "code",
   "execution_count": 63,
   "metadata": {},
   "outputs": [],
   "source": [
    "# So I don't have to bother with this annoying typing of numbers I'm gonna use predefine function for extracting \n",
    "# fields of interest for certain log types. Let's see the mapping in logspecs.py\n",
    "# extract x'67' subtype x'ff' specifc values\n",
    "logspecs.extract_typespecific_fields(logspecs.log_items['67']['ff'], log67ff)\n",
    "log67ff"
   ]
  },
  {
   "cell_type": "code",
   "execution_count": 3,
   "metadata": {},
   "outputs": [
    {
     "name": "stdout",
     "output_type": "stream",
     "text": [
      "Log record 67ff snap IDs: PSAB\n",
      "Log record67ff abend numbers 0777\n"
     ]
    }
   ],
   "source": [
    "# this does not tell much, list of abends is interesting\n",
    "print('Log record 67ff snap IDs: '+','.join(log67ff['snid'].unique()))\n",
    "print('Log record67ff abend numbers ' + ','.join(log67ff['abno'].unique()))"
   ]
  },
  {
   "cell_type": "code",
   "execution_count": 74,
   "metadata": {},
   "outputs": [
    {
     "data": {
      "text/html": [
       "<div>\n",
       "<style scoped>\n",
       "    .dataframe tbody tr th:only-of-type {\n",
       "        vertical-align: middle;\n",
       "    }\n",
       "\n",
       "    .dataframe tbody tr th {\n",
       "        vertical-align: top;\n",
       "    }\n",
       "\n",
       "    .dataframe thead th {\n",
       "        text-align: right;\n",
       "    }\n",
       "</style>\n",
       "<table border=\"1\" class=\"dataframe\">\n",
       "  <thead>\n",
       "    <tr style=\"text-align: right;\">\n",
       "      <th></th>\n",
       "      <th>blob</th>\n",
       "      <th>type</th>\n",
       "      <th>subtype</th>\n",
       "      <th>sequence</th>\n",
       "      <th>tod</th>\n",
       "      <th>datetime</th>\n",
       "      <th>timestamp</th>\n",
       "      <th>blobhex</th>\n",
       "      <th>blobtxt</th>\n",
       "      <th>snid</th>\n",
       "      <th>...</th>\n",
       "      <th>waiter_imsid</th>\n",
       "      <th>waiter_tran</th>\n",
       "      <th>waiter_psb</th>\n",
       "      <th>waiter_pcb</th>\n",
       "      <th>waiter_pst</th>\n",
       "      <th>blockr_imsid</th>\n",
       "      <th>blockr_tran</th>\n",
       "      <th>blockr_psb</th>\n",
       "      <th>blockr_pcb</th>\n",
       "      <th>blockr_pst</th>\n",
       "    </tr>\n",
       "  </thead>\n",
       "  <tbody>\n",
       "    <tr>\n",
       "      <th>7103</th>\n",
       "      <td>b'g\\xff\\x00\\x00\\xd7\\xe2\\xc1\\xc2\\x00_\\x00\\x00 \\...</td>\n",
       "      <td>67</td>\n",
       "      <td>ff</td>\n",
       "      <td>506990</td>\n",
       "      <td>15329472068557425628</td>\n",
       "      <td>2018-08-06 12:21:31.737652</td>\n",
       "      <td>3.162092e+06</td>\n",
       "      <td>67ff0000d7e2c1c2005f00002018218f12210473669801...</td>\n",
       "      <td>Å\u0000\u0000PSAB\u0000^\u0000\u0000\u0018±\u0012ËÃq\u0001_0777DEADLOCK\u0000\u0000\u0003*M&amp;\u0000\u0000\u0002...</td>\n",
       "      <td>PSAB</td>\n",
       "      <td>...</td>\n",
       "      <td>IMSX</td>\n",
       "      <td>HPO7300S</td>\n",
       "      <td>PSBHPO04</td>\n",
       "      <td>INDEXPCB</td>\n",
       "      <td>2</td>\n",
       "      <td>IMSX</td>\n",
       "      <td>HPO7300R</td>\n",
       "      <td>PSBHPO04</td>\n",
       "      <td>INDEXPCB</td>\n",
       "      <td>1</td>\n",
       "    </tr>\n",
       "  </tbody>\n",
       "</table>\n",
       "<p>1 rows × 23 columns</p>\n",
       "</div>"
      ],
      "text/plain": [
       "                                                   blob type subtype  \\\n",
       "7103  b'g\\xff\\x00\\x00\\xd7\\xe2\\xc1\\xc2\\x00_\\x00\\x00 \\...   67      ff   \n",
       "\n",
       "      sequence                   tod                   datetime     timestamp  \\\n",
       "7103    506990  15329472068557425628 2018-08-06 12:21:31.737652  3.162092e+06   \n",
       "\n",
       "                                                blobhex  \\\n",
       "7103  67ff0000d7e2c1c2005f00002018218f12210473669801...   \n",
       "\n",
       "                                                blobtxt  snid    ...      \\\n",
       "7103  Å\u0000\u0000PSAB\u0000^\u0000\u0000\u0018±\u0012ËÃq\u0001_0777DEADLOCK\u0000\u0000\u0003*M&\u0000\u0000\u0002...  PSAB    ...       \n",
       "\n",
       "     waiter_imsid waiter_tran waiter_psb waiter_pcb waiter_pst blockr_imsid  \\\n",
       "7103     IMSX        HPO7300S   PSBHPO04   INDEXPCB          2     IMSX       \n",
       "\n",
       "     blockr_tran  blockr_psb blockr_pcb blockr_pst  \n",
       "7103    HPO7300R    PSBHPO04   INDEXPCB          1  \n",
       "\n",
       "[1 rows x 23 columns]"
      ]
     },
     "execution_count": 74,
     "metadata": {},
     "output_type": "execute_result"
    }
   ],
   "source": [
    "# make a separate dataframe with deadlock records\n",
    "deadlocks = log67ff[log67ff['name'] == 'DEADLOCK'].copy()\n",
    "\n",
    "# extract deadlock record specifics\n",
    "logspecs.extract_typespecific_fields(logspecs.deadlock_map, deadlocks)  # let's extract deadlock specifics\n",
    "\n",
    "# show me the deadlocks\n",
    "deadlocks"
   ]
  }
 ],
 "metadata": {
  "kernelspec": {
   "display_name": "Python 3",
   "language": "python",
   "name": "python3"
  },
  "language_info": {
   "codemirror_mode": {
    "name": "ipython",
    "version": 3
   },
   "file_extension": ".py",
   "mimetype": "text/x-python",
   "name": "python",
   "nbconvert_exporter": "python",
   "pygments_lexer": "ipython3",
   "version": "3.6.4"
  }
 },
 "nbformat": 4,
 "nbformat_minor": 2
}
