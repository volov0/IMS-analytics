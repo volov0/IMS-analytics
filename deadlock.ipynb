{
 "cells": [
  {
   "cell_type": "markdown",
   "metadata": {},
   "source": [
    "#### Log type 67 - Deadlock analysis\n",
    "##### Related job outputs to logs_212_219.h5 log data (two BMPs and IMSX control region) are in deadlock outputs/ directory"
   ]
  },
  {
   "cell_type": "code",
   "execution_count": 2,
   "metadata": {},
   "outputs": [],
   "source": [
    "# Copyright (c) 2018 CA.  All rights reserved.\n",
    "import pandas as pd\n",
    "import logspecs      \n",
    "\n",
    "# load data from filesystem into dataframe\n",
    "hdf = pd.HDFStore('hdf5/logs_212_219.h5')  # What is stored here is a product of preprocessing phase.\n",
    "df = hdf['df']                             # df is raw dataframe with fields which are common to all log record types"
   ]
  },
  {
   "cell_type": "code",
   "execution_count": 3,
   "metadata": {},
   "outputs": [],
   "source": [
    "# So I don't have to bother with this annoying typing of numbers I'm gonna use predefine function for extracting \n",
    "# fields of interest for certain log types. Let's see the mapping in logspecs.py\n",
    "# extract x'67' subtype x'ff' specifc values\n",
    "log67ff = df[(df['type'] == '67') & (df['subtype'] == 'ff')].copy()\n",
    "logspecs.extract_typespecific_fields(logspecs.log_items['67']['ff'], log67ff)"
   ]
  },
  {
   "cell_type": "code",
   "execution_count": 4,
   "metadata": {},
   "outputs": [
    {
     "name": "stdout",
     "output_type": "stream",
     "text": [
      "Log record 67ff snap IDs: PSAB\n",
      "Log record67ff abend numbers 0777\n"
     ]
    }
   ],
   "source": [
    "# this does not tell much, list of abends is interesting\n",
    "print('Log record 67ff snap IDs: '+','.join(log67ff['snid'].unique()))\n",
    "print('Log record67ff abend numbers ' + ','.join(log67ff['abno'].unique()))"
   ]
  },
  {
   "cell_type": "code",
   "execution_count": 5,
   "metadata": {},
   "outputs": [
    {
     "data": {
      "text/plain": [
       "blob            b'g\\xff\\x00\\x00\\xd7\\xe2\\xc1\\xc2\\x00_\\x00\\x00 \\...\n",
       "type                                                           67\n",
       "subtype                                                        ff\n",
       "sequence                                                   506990\n",
       "tod                                          15329472068557425628\n",
       "datetime                               2018-08-06 12:21:31.737652\n",
       "timestamp                                             3.16209e+06\n",
       "snid                                                         PSAB\n",
       "abno                                                         0777\n",
       "name                                                     DEADLOCK\n",
       "dmb                                                      DVAS7310\n",
       "waiter_imsid                                             IMSX    \n",
       "waiter_tran                                              HPO7300S\n",
       "waiter_psb                                               PSBHPO04\n",
       "waiter_pcb                                               INDEXPCB\n",
       "waiter_pst                                                      2\n",
       "blockr_imsid                                             IMSX    \n",
       "blockr_tran                                              HPO7300R\n",
       "blockr_psb                                               PSBHPO04\n",
       "blockr_pcb                                               INDEXPCB\n",
       "blockr_pst                                                      1\n",
       "Name: 7103, dtype: object"
      ]
     },
     "execution_count": 5,
     "metadata": {},
     "output_type": "execute_result"
    }
   ],
   "source": [
    "# make a separate dataframe with deadlock records\n",
    "deadlocks = log67ff[log67ff['name'] == 'DEADLOCK'].copy()\n",
    "\n",
    "# extract deadlock record specifics\n",
    "logspecs.extract_typespecific_fields(logspecs.deadlock_map, deadlocks)  # let's extract deadlock specifics\n",
    "\n",
    "# show me the deadlocks\n",
    "deadlocks.iloc[0]"
   ]
  }
 ],
 "metadata": {
  "kernelspec": {
   "display_name": "Python 3",
   "language": "python",
   "name": "python3"
  },
  "language_info": {
   "codemirror_mode": {
    "name": "ipython",
    "version": 3
   },
   "file_extension": ".py",
   "mimetype": "text/x-python",
   "name": "python",
   "nbconvert_exporter": "python",
   "pygments_lexer": "ipython3",
   "version": "3.6.4"
  }
 },
 "nbformat": 4,
 "nbformat_minor": 2
}
