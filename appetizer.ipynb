{
 "cells": [
  {
   "cell_type": "markdown",
   "metadata": {},
   "source": [
    "#### Motivational appetizer"
   ]
  },
  {
   "cell_type": "code",
   "execution_count": null,
   "metadata": {},
   "outputs": [],
   "source": [
    "# Copyright (c) 2018 CA.  All rights reserved.\n",
    "import pandas as pd         \n",
    "import logspecs             \n",
    "import seaborn as sns\n",
    "%matplotlib notebook        \n",
    "\n",
    "sns.set()                   # set seaborn to make the plot nicer\n",
    "\n",
    "# load data from filesystem into dataframe\n",
    "hdf = pd.HDFStore('hdf5/logs_212_219.h5')  \n",
    "df = hdf['df']                             "
   ]
  },
  {
   "cell_type": "code",
   "execution_count": null,
   "metadata": {},
   "outputs": [],
   "source": [
    "# make a separate dataframe with log x'50' records only \n",
    "log50 = df[df['type'] == '50'].copy()         \n",
    "\n",
    "# extract x'50' specifc values\n",
    "logspecs.extract_typespecific_fields(logspecs.log_items['50'], log50)"
   ]
  },
  {
   "cell_type": "code",
   "execution_count": 1,
   "metadata": {},
   "outputs": [
    {
     "ename": "NameError",
     "evalue": "name 'log50' is not defined",
     "output_type": "error",
     "traceback": [
      "\u001b[1;31m---------------------------------------------------------------------------\u001b[0m",
      "\u001b[1;31mNameError\u001b[0m                                 Traceback (most recent call last)",
      "\u001b[1;32m<ipython-input-1-684f416b6f57>\u001b[0m in \u001b[0;36m<module>\u001b[1;34m()\u001b[0m\n\u001b[0;32m      1\u001b[0m \u001b[1;31m# filter log records for one database\u001b[0m\u001b[1;33m\u001b[0m\u001b[1;33m\u001b[0m\u001b[0m\n\u001b[1;32m----> 2\u001b[1;33m \u001b[0mdbupdates\u001b[0m \u001b[1;33m=\u001b[0m \u001b[0mlog50\u001b[0m\u001b[1;33m[\u001b[0m\u001b[0mlog50\u001b[0m\u001b[1;33m[\u001b[0m\u001b[1;34m'dbd'\u001b[0m\u001b[1;33m]\u001b[0m \u001b[1;33m==\u001b[0m \u001b[1;34m'BA1P0050'\u001b[0m\u001b[1;33m]\u001b[0m   \u001b[1;31m# hdam RMNAME=(DFSHDC40,1,500,2500), block size=1024\u001b[0m\u001b[1;33m\u001b[0m\u001b[0m\n\u001b[0m\u001b[0;32m      3\u001b[0m \u001b[1;33m\u001b[0m\u001b[0m\n\u001b[0;32m      4\u001b[0m \u001b[1;31m# plot the data\u001b[0m\u001b[1;33m\u001b[0m\u001b[1;33m\u001b[0m\u001b[0m\n\u001b[0;32m      5\u001b[0m \u001b[0msns\u001b[0m\u001b[1;33m.\u001b[0m\u001b[0mjointplot\u001b[0m\u001b[1;33m(\u001b[0m\u001b[0mdbupdates\u001b[0m\u001b[1;33m[\u001b[0m\u001b[1;34m'tod'\u001b[0m\u001b[1;33m]\u001b[0m\u001b[1;33m,\u001b[0m \u001b[0mdbupdates\u001b[0m\u001b[1;33m[\u001b[0m\u001b[1;34m'rba'\u001b[0m\u001b[1;33m]\u001b[0m\u001b[1;33m,\u001b[0m \u001b[0malpha\u001b[0m\u001b[1;33m=\u001b[0m\u001b[1;36m0.1\u001b[0m\u001b[1;33m,\u001b[0m \u001b[0mheight\u001b[0m\u001b[1;33m=\u001b[0m\u001b[1;36m8\u001b[0m\u001b[1;33m)\u001b[0m\u001b[1;33m\u001b[0m\u001b[0m\n",
      "\u001b[1;31mNameError\u001b[0m: name 'log50' is not defined"
     ]
    }
   ],
   "source": [
    "# filter log records for one database\n",
    "dbupdates = log50[log50['dbd'] == 'BA1P0050']   # hdam RMNAME=(DFSHDC40,1,500,2500), block size=1024\n",
    "\n",
    "# plot the data\n",
    "sns.jointplot(dbupdates['tod'], dbupdates['rba'], alpha=0.1, height=8)"
   ]
  }
 ],
 "metadata": {
  "kernelspec": {
   "display_name": "Python 3",
   "language": "python",
   "name": "python3"
  },
  "language_info": {
   "codemirror_mode": {
    "name": "ipython",
    "version": 3
   },
   "file_extension": ".py",
   "mimetype": "text/x-python",
   "name": "python",
   "nbconvert_exporter": "python",
   "pygments_lexer": "ipython3",
   "version": "3.6.4"
  }
 },
 "nbformat": 4,
 "nbformat_minor": 2
}
