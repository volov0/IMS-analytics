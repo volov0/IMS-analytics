{
 "cells": [
  {
   "cell_type": "code",
   "execution_count": null,
   "metadata": {
    "scrolled": true
   },
   "outputs": [],
   "source": [
    "# Copyright (c) 2018 CA.  All rights reserved.\n",
    "import pandas as pd\n",
    "\n",
    "# load x'07' data from filesystem into dataframe\n",
    "hdf = pd.HDFStore('hdf5/logs07_only.h5')\n",
    "log07 = hdf['df']\n",
    "log07"
   ]
  },
  {
   "cell_type": "code",
   "execution_count": null,
   "metadata": {
    "scrolled": true
   },
   "outputs": [],
   "source": [
    "log07['datetime'].min()"
   ]
  },
  {
   "cell_type": "code",
   "execution_count": null,
   "metadata": {
    "scrolled": true
   },
   "outputs": [],
   "source": [
    "log07['datetime'].max()"
   ]
  },
  {
   "cell_type": "code",
   "execution_count": null,
   "metadata": {
    "scrolled": true
   },
   "outputs": [],
   "source": [
    "log07['psb'].value_counts()"
   ]
  },
  {
   "cell_type": "code",
   "execution_count": null,
   "metadata": {
    "scrolled": true
   },
   "outputs": [],
   "source": [
    "log07[log07['ccode'] != 0]                                  # show apps with non-zero rc\n",
    "log07[log07['ccode'] != 0]['psb'].value_counts()            # show psbs and number of nonzero runs\n",
    "log07[log07['ccode'] != 0].groupby(['psb','ccode']).size()  # group them by psb name and rc\n",
    "bad_runs = log07[log07['ccode'] != 0]['psb'].value_counts() # bad run counts\n",
    "all_runs = log07['psb'].value_counts()                      # all run counts\n",
    "#fails = pd.DataFrame(log07[log07['ccode'] != 0]['psb'].value_counts())\n",
    "fails_df = pd.concat([all_runs,bad_runs], axis=1, sort=False).dropna() # merge statistics about bad/all runs into one dataframe\n",
    "fails_df.columns = ['all', 'failed']                        # rename columns\n",
    "fails_df['ratio'] = (fails_df['failed'] / fails_df['all']) * 100  # ratio of bad runs\n",
    "fails_df.sort_values('ratio',ascending=False)               # sort them from the most problematic"
   ]
  },
  {
   "cell_type": "code",
   "execution_count": null,
   "metadata": {
    "scrolled": true
   },
   "outputs": [],
   "source": [
    "log07[log07['psb'] == 'P147UMPP']['extime'].mean()   # what is average exec time of certain psb\n",
    "log07[log07['psb'] == 'P147UMPP']['extime'].std()    # what is average exec time of certain psb"
   ]
  },
  {
   "cell_type": "code",
   "execution_count": null,
   "metadata": {
    "scrolled": true
   },
   "outputs": [],
   "source": [
    "log07.describe()"
   ]
  },
  {
   "cell_type": "code",
   "execution_count": null,
   "metadata": {
    "scrolled": true
   },
   "outputs": [],
   "source": [
    "log07['totio'] = pd.to_numeric(log07['totio'])   # transform to numbers in order to make statistical functions to work\n",
    "log07.nlargest(10, 'totio')                      # show top ten in io count"
   ]
  },
  {
   "cell_type": "code",
   "execution_count": null,
   "metadata": {
    "scrolled": true
   },
   "outputs": [],
   "source": [
    "log07['extime'] = pd.to_numeric(log07['extime'])  # transform to numbers in order to make statistical functions to work\n",
    "log07.nlargest(10, 'extime')                      # show top ten in execution time count"
   ]
  },
  {
   "cell_type": "code",
   "execution_count": null,
   "metadata": {
    "scrolled": true
   },
   "outputs": [],
   "source": [
    "# calculate average io time\n",
    "progs_with_io = log07[log07['totio'] > 0].copy()  # get rid of programs with no io\n",
    "progs_with_io['avgiotime'] = pd.to_numeric(progs_with_io['iotime'] / progs_with_io['totio']) #add culumnwith average io\n",
    "progs_with_io.nlargest(10,'avgiotime')            # show top ten"
   ]
  }
 ],
 "metadata": {
  "kernelspec": {
   "display_name": "Python 3",
   "language": "python",
   "name": "python3"
  },
  "language_info": {
   "codemirror_mode": {
    "name": "ipython",
    "version": 3
   },
   "file_extension": ".py",
   "mimetype": "text/x-python",
   "name": "python",
   "nbconvert_exporter": "python",
   "pygments_lexer": "ipython3",
   "version": "3.6.4"
  }
 },
 "nbformat": 4,
 "nbformat_minor": 2
}
