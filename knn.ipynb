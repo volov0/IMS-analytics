{
 "cells": [
  {
   "cell_type": "code",
   "execution_count": 81,
   "metadata": {},
   "outputs": [],
   "source": [
    "# Copyright (c) 2018 CA.  All rights reserved.\n",
    "import pandas as pd\n",
    "import numpy as np\n",
    "import matplotlib.pyplot as plt\n",
    "from mpl_toolkits.mplot3d import Axes3D\n",
    "\n",
    "%matplotlib notebook \n",
    "\n",
    "# load x'07' data from filesystem into dataframe\n",
    "hdf = pd.HDFStore('hdf5/logs07_only.h5')\n",
    "log07 = hdf['df']"
   ]
  },
  {
   "cell_type": "code",
   "execution_count": 149,
   "metadata": {},
   "outputs": [],
   "source": [
    "# I'll add two new columns for vsam and osam total io\n",
    "log07['totvsamio'] = log07['vsamrio'] + log07['vsamwio'] \n",
    "log07['totosamio'] = log07['osamrio'] + log07['osamwio']\n",
    "\n",
    "# another new columns will tell either this is an osam or vsam, some will be none\n",
    "# numbers 0,1,2,3 are for future calculations\n",
    "log07['access'] = 0      \n",
    "log07.loc[log07['totvsamio'] > 0, 'access'] = 1\n",
    "log07.loc[log07['totosamio'] > 0, 'access'] = 2\n",
    "log07.loc[(log07['totvsamio'] > 0) & (log07['totosamio'] > 0), 'access'] = 3\n",
    "\n",
    "# drop all non dli applications\n",
    "dliapps = log07[log07['dlicnt'] > 0]\n",
    "\n",
    "# show me frequency of values\n",
    "dliapps['access'].value_counts()"
   ]
  },
  {
   "cell_type": "code",
   "execution_count": 150,
   "metadata": {
    "scrolled": false
   },
   "outputs": [],
   "source": [
    "# plotting a scatter matrix\n",
    "from matplotlib import cm\n",
    "X = dliapps[['extime', 'dlicnt', 'totio', 'lktime']]\n",
    "X = X.astype(np.float)\n",
    "y = dliapps['access']\n",
    "\n",
    "scatter = pd.plotting.scatter_matrix(X, c=y, marker = 'o', s=20, hist_kwds={'bins':25}, figsize=(9,9))"
   ]
  },
  {
   "cell_type": "code",
   "execution_count": 152,
   "metadata": {
    "scrolled": false
   },
   "outputs": [],
   "source": [
    "fig = plt.figure()\n",
    "ax = fig.add_subplot(111, projection='3d')\n",
    "\n",
    "# make a 3d scatter plot\n",
    "ax.scatter(X['lktime'], X['extime'], X['dlicnt'], c=y) \n",
    "ax.set_xlabel('lktime')\n",
    "ax.set_ylabel('extime')\n",
    "ax.set_zlabel('dlicnt');"
   ]
  },
  {
   "cell_type": "code",
   "execution_count": 153,
   "metadata": {},
   "outputs": [],
   "source": [
    "dliapps[dliapps['lktime'] == (dliapps['lktime'].max())].iloc[0]"
   ]
  },
  {
   "cell_type": "code",
   "execution_count": 131,
   "metadata": {},
   "outputs": [],
   "source": [
    "from sklearn.model_selection import train_test_split\n",
    "\n",
    "# split the data into train and test sets. Default is 75% / 25% train-test split\n",
    "X_train, X_test, y_train, y_test = train_test_split(X, y, random_state=0)"
   ]
  },
  {
   "cell_type": "code",
   "execution_count": 141,
   "metadata": {},
   "outputs": [],
   "source": [
    "from sklearn.neighbors import KNeighborsClassifier\n",
    "\n",
    "knn = KNeighborsClassifier(n_neighbors = 5)"
   ]
  },
  {
   "cell_type": "code",
   "execution_count": 154,
   "metadata": {},
   "outputs": [],
   "source": [
    "knn.fit(X_train, y_train)"
   ]
  },
  {
   "cell_type": "code",
   "execution_count": 143,
   "metadata": {},
   "outputs": [
    {
     "data": {
      "text/plain": [
       "0.8111587982832618"
      ]
     },
     "execution_count": 143,
     "metadata": {},
     "output_type": "execute_result"
    }
   ],
   "source": [
    "knn.score(X_test, y_test)"
   ]
  }
 ],
 "metadata": {
  "kernelspec": {
   "display_name": "Python 3",
   "language": "python",
   "name": "python3"
  },
  "language_info": {
   "codemirror_mode": {
    "name": "ipython",
    "version": 3
   },
   "file_extension": ".py",
   "mimetype": "text/x-python",
   "name": "python",
   "nbconvert_exporter": "python",
   "pygments_lexer": "ipython3",
   "version": "3.6.4"
  }
 },
 "nbformat": 4,
 "nbformat_minor": 2
}
