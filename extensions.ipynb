{
 "cells": [
  {
   "cell_type": "markdown",
   "metadata": {},
   "source": [
    "#### Log type 27 - Dataset extension records"
   ]
  },
  {
   "cell_type": "code",
   "execution_count": null,
   "metadata": {},
   "outputs": [],
   "source": [
    "import pandas as pd\n",
    "import logspecs\n",
    "import matplotlib.pyplot as plt\n",
    "import seaborn as sns\n",
    "%matplotlib notebook\n",
    "\n",
    "hdf = pd.HDFStore('hdf5/logs_212_219.h5')\n",
    "df = hdf['df']\n",
    "\n",
    "sns.set()"
   ]
  },
  {
   "cell_type": "code",
   "execution_count": null,
   "metadata": {},
   "outputs": [],
   "source": [
    "# make a separate dataframe with log x'27' subtype x'02' records only \n",
    "log27 = df[(df['type'] == '27') & (df['subtype'] == '02')].copy()\n",
    "\n",
    "# extract x'27' specifc values\n",
    "log27['flag']  = log27['blob'].apply(lambda x: int(x[11:12].hex(),16))\n",
    "log27          = log27[log27['flag'] > 0]   # I care only about interesting values - phase 2 records\n",
    "log27['dbd']   = log27['blob'].apply(lambda x: x[2:10].decode('cp500'))\n",
    "log27['sizeh'] = log27['blob'].apply(lambda x: x[50:54].hex())\n",
    "log27['size']  = log27['blob'].apply(lambda x: int(x[50:54].hex(), 16))\n",
    "log27['dcb']   = log27['blob'].apply(lambda x: int(x[10:11].hex(),16))\n",
    "\n",
    "for group, frame in log27.groupby('dbd'):\n",
    "    print('Dbd {} has count {}'.format(group, frame.shape[0]))\n",
    "\n",
    "dbname = 'BA1P0050'\n",
    "dbexts = log27[log27['dbd'] == dbname]\n",
    "\n",
    "\n",
    "dbexts"
   ]
  },
  {
   "cell_type": "code",
   "execution_count": null,
   "metadata": {},
   "outputs": [],
   "source": [
    "plt.figure()\n",
    "plt.plot(dbexts['tod'], dbexts['size'], '-ro')"
   ]
  },
  {
   "cell_type": "code",
   "execution_count": null,
   "metadata": {},
   "outputs": [],
   "source": [
    "# make a separate dataframe with log x'50' records only \n",
    "log50 = df[df['type'] == '50'].copy()\n",
    "\n",
    "# extract x'50' specifc values\n",
    "logspecs.extract_typespecific_fields(logspecs.log_items['50'], log50)\n",
    "dbupdates = log50[log50['dbd'] == dbname]"
   ]
  },
  {
   "cell_type": "code",
   "execution_count": null,
   "metadata": {},
   "outputs": [],
   "source": [
    "#plt.figure()\n",
    "plt.scatter(dbupdates['tod'], dbupdates['rba'], alpha=0.1)"
   ]
  }
 ],
 "metadata": {
  "kernelspec": {
   "display_name": "Python 3",
   "language": "python",
   "name": "python3"
  },
  "language_info": {
   "codemirror_mode": {
    "name": "ipython",
    "version": 3
   },
   "file_extension": ".py",
   "mimetype": "text/x-python",
   "name": "python",
   "nbconvert_exporter": "python",
   "pygments_lexer": "ipython3",
   "version": "3.6.4"
  }
 },
 "nbformat": 4,
 "nbformat_minor": 2
}
